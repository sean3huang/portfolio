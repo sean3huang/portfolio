{
 "cells": [
  {
   "cell_type": "code",
   "execution_count": 1,
   "id": "87061d7a-48b0-41cf-9ea6-a89060d794d4",
   "metadata": {},
   "outputs": [],
   "source": [
    "using ScikitLearn, DecisionTree, MLDataUtils, CSV, DataFrames, CategoricalArrays"
   ]
  },
  {
   "cell_type": "code",
   "execution_count": 2,
   "id": "da2fc426-4b55-4a1a-af71-51301b557a2d",
   "metadata": {},
   "outputs": [],
   "source": [
    "seed = 15095;"
   ]
  },
  {
   "cell_type": "code",
   "execution_count": 3,
   "id": "0296f5a4-077f-473b-86b4-3e2ece11c5fa",
   "metadata": {},
   "outputs": [],
   "source": [
    "# Load the data\n",
    "data = CSV.read(\"data.csv\", DataFrame, pool=true);\n",
    "X = data[:,1:(end - 1)]\n",
    "y = data.state\n",
    "\n",
    "(X2, y2), (X_test, y_test) = IAI.split_data(:classification, X, y, seed=seed, train_proportion=0.8)\n",
    "(X_train, y_train), (X_valid, y_valid) =  IAI.split_data(:classification, X2, y2, seed=seed, train_proportion=0.8);"
   ]
  },
  {
   "cell_type": "code",
   "execution_count": 29,
   "id": "f075ce6a-d8d3-44c5-b70f-a5823f153b42",
   "metadata": {},
   "outputs": [],
   "source": [
    "lnr_OCT = IAI.OptimalTreeClassifier(\n",
    "                    random_seed=seed, \n",
    "                    cp=0.01, \n",
    "                    max_categoric_levels_before_warning=20);"
   ]
  },
  {
   "cell_type": "code",
   "execution_count": null,
   "id": "639136b2-0250-439d-a75d-2d5dc62e6637",
   "metadata": {},
   "outputs": [],
   "source": [
    "grid_OCT = IAI.GridSearch(lnr_OCT,\n",
    "    max_depth=[6, 10],\n",
    "    minbucket=[15, 30],\n",
    "    criterion=[:entropy]\n",
    ")\n",
    "\n",
    "IAI.fit_cv!(grid_OCT, X2, Array(y2), validation_criterion = :auc, n_folds=5);"
   ]
  },
  {
   "cell_type": "code",
   "execution_count": null,
   "id": "e79b4119-e4eb-4cb5-90c8-b2065799f791",
   "metadata": {},
   "outputs": [],
   "source": [
    "# best learner\n",
    "best_oct = IAI.get_learner(grid_OCT)\n",
    "# auc\n",
    "IAI.score(best_oct, X_test, y_test, criterion=:auc)"
   ]
  },
  {
   "cell_type": "code",
   "execution_count": null,
   "id": "e410ac0e-ae38-4ddf-974b-4ed67feb6996",
   "metadata": {},
   "outputs": [],
   "source": [
    "# acc\n",
    "IAI.score(best_oct, X_test, y_test, criterion=:misclassification)"
   ]
  },
  {
   "cell_type": "code",
   "execution_count": null,
   "id": "b60eb4c5-baca-426b-8f87-9f449f4f8a93",
   "metadata": {},
   "outputs": [],
   "source": [
    "# VarImp\n",
    "IAI.variable_importance(best_oct)"
   ]
  },
  {
   "cell_type": "code",
   "execution_count": 25,
   "id": "1e0cc091-bd8a-478e-8ae2-38dd6148c61c",
   "metadata": {},
   "outputs": [
    {
     "data": {
      "text/plain": [
       "Unfitted OptimalTreeClassifier:\n",
       "  cp:                0.01\n",
       "  hyperplane_config: (sparsity = :all,)\n",
       "  random_seed:       15095"
      ]
     },
     "execution_count": 25,
     "metadata": {},
     "output_type": "execute_result"
    }
   ],
   "source": [
    "OCTH = IAI.OptimalTreeClassifier(\n",
    "        random_seed=seed,\n",
    "        cp=0.01,\n",
    "        hyperplane_config=(sparsity=:all,) # tells learner this is OCT-H\n",
    "        )"
   ]
  },
  {
   "cell_type": "code",
   "execution_count": null,
   "id": "07fe6721-1717-4a27-a43a-8acd228111db",
   "metadata": {},
   "outputs": [],
   "source": [
    "grid_OCTH = IAI.GridSearch(OCTH,\n",
    "    max_depth=[3, 5],\n",
    "    minbucket=[20, 50],\n",
    "    criterion=[:entropy]\n",
    ")\n",
    "\n",
    "IAI.fit_cv!(grid_OCTH, X2, Array(y2), n_folds=5);"
   ]
  },
  {
   "cell_type": "code",
   "execution_count": null,
   "id": "7221a18b-994b-4135-b6a6-839aea9deafd",
   "metadata": {},
   "outputs": [],
   "source": [
    "# best learner\n",
    "best_octh = IAI.get_learner(grid_OCTH)\n",
    "# auc\n",
    "IAI.score(best_octh, X_test, y_test, criterion=:auc)"
   ]
  },
  {
   "cell_type": "code",
   "execution_count": null,
   "id": "ed62e63f-0922-4fb6-8ead-3b9e9065156e",
   "metadata": {},
   "outputs": [],
   "source": [
    "IAI.score(best_octh, X_test, y_test, criterion=:misclassification)"
   ]
  },
  {
   "cell_type": "code",
   "execution_count": null,
   "id": "dee0c26d-3568-46f2-a891-1105aac5dfcf",
   "metadata": {},
   "outputs": [],
   "source": []
  }
 ],
 "metadata": {
  "kernelspec": {
   "display_name": "Julia (IAI) 1.9.2",
   "language": "julia",
   "name": "julia-_iai_-1.9"
  },
  "language_info": {
   "file_extension": ".jl",
   "mimetype": "application/julia",
   "name": "julia",
   "version": "1.9.2"
  }
 },
 "nbformat": 4,
 "nbformat_minor": 5
}
