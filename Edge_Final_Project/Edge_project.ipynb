{
 "cells": [
  {
   "cell_type": "code",
   "execution_count": 1,
   "metadata": {
    "id": "J8piV5avfDW0",
    "tags": []
   },
   "outputs": [],
   "source": [
    "import numpy as np\n",
    "import pandas as pd\n",
    "import matplotlib.pyplot as plt\n",
    "import seaborn as sns\n",
    "import io\n",
    "import sklearn\n",
    "from sklearn import preprocessing\n",
    "from sklearn.tree import DecisionTreeClassifier\n",
    "from sklearn.model_selection import train_test_split, GridSearchCV\n",
    "from sklearn.metrics import accuracy_score, roc_auc_score\n",
    "from sklearn.ensemble import RandomForestClassifier\n",
    "from xgboost import XGBClassifier\n",
    "from sklearn.linear_model import LogisticRegression\n",
    "from sklearn.impute import KNNImputer\n",
    "from sklearn.preprocessing import StandardScaler\n",
    "from sklearn.metrics import confusion_matrix,ConfusionMatrixDisplay"
   ]
  },
  {
   "cell_type": "markdown",
   "metadata": {},
   "source": [
    "## Data Preprocessing"
   ]
  },
  {
   "cell_type": "code",
   "execution_count": 7,
   "metadata": {
    "id": "J3GW2Erdib8t",
    "tags": []
   },
   "outputs": [],
   "source": [
    "# load data\n",
    "data_2014 = pd.read_csv('data/2014_Financial_Data.csv')\n",
    "data_2015 = pd.read_csv('data/2015_Financial_Data.csv')\n",
    "data_2016 = pd.read_csv('data/2016_Financial_Data.csv')\n",
    "data_2017 = pd.read_csv('data/2017_Financial_Data.csv')\n",
    "data_2018 = pd.read_csv('data/2018_Financial_Data.csv')"
   ]
  },
  {
   "cell_type": "code",
   "execution_count": 8,
   "metadata": {
    "id": "p7XCDVpyzEkC",
    "tags": []
   },
   "outputs": [],
   "source": [
    "# rename the first column\n",
    "data_2014.rename(columns={'Unnamed: 0': 'Company'}, inplace=True)\n",
    "data_2015.rename(columns={'Unnamed: 0': 'Company'}, inplace=True)\n",
    "data_2016.rename(columns={'Unnamed: 0': 'Company'}, inplace=True)\n",
    "data_2017.rename(columns={'Unnamed: 0': 'Company'}, inplace=True)\n",
    "data_2018.rename(columns={'Unnamed: 0': 'Company'}, inplace=True)"
   ]
  },
  {
   "cell_type": "code",
   "execution_count": 9,
   "metadata": {
    "id": "-bXGebnM0Tl0",
    "tags": []
   },
   "outputs": [],
   "source": [
    "# drop the PRICE VAR column since we will do classification instead of regression\n",
    "data_2014.drop(columns=['2015 PRICE VAR [%]'], inplace=True)\n",
    "data_2015.drop(columns=['2016 PRICE VAR [%]'], inplace=True)\n",
    "data_2016.drop(columns=['2017 PRICE VAR [%]'], inplace=True)\n",
    "data_2017.drop(columns=['2018 PRICE VAR [%]'], inplace=True)\n",
    "data_2018.drop(columns=['2019 PRICE VAR [%]'], inplace=True)"
   ]
  },
  {
   "cell_type": "code",
   "execution_count": 10,
   "metadata": {
    "id": "CG9ojpGcA0RU",
    "tags": []
   },
   "outputs": [],
   "source": [
    "# concate dataframes from 2014 - 2018\n",
    "data = pd.concat([data_2014,data_2015,data_2016,data_2017,data_2018],ignore_index=True)\n",
    "data.drop(columns=['Company'], inplace=True)"
   ]
  },
  {
   "cell_type": "code",
   "execution_count": 19,
   "metadata": {
    "colab": {
     "base_uri": "https://localhost:8080/"
    },
    "id": "3XfV5r-Ffoij",
    "outputId": "be9def98-fd78-4afa-c799-d1d92b5fb76c",
    "tags": []
   },
   "outputs": [
    {
     "name": "stdout",
     "output_type": "stream",
     "text": [
      "<class 'pandas.core.frame.DataFrame'>\n",
      "RangeIndex: 22077 entries, 0 to 22076\n",
      "Columns: 223 entries, Revenue to Class\n",
      "dtypes: float64(221), int64(1), object(1)\n",
      "memory usage: 37.6+ MB\n"
     ]
    }
   ],
   "source": [
    "# look at data\n",
    "data.info()"
   ]
  },
  {
   "cell_type": "code",
   "execution_count": 20,
   "metadata": {
    "colab": {
     "base_uri": "https://localhost:8080/",
     "height": 446
    },
    "id": "Q1ZOlUVPBLVG",
    "outputId": "f678fc9d-569e-4575-c6f9-731091ed836e",
    "tags": []
   },
   "outputs": [
    {
     "data": {
      "text/html": [
       "<div>\n",
       "<style scoped>\n",
       "    .dataframe tbody tr th:only-of-type {\n",
       "        vertical-align: middle;\n",
       "    }\n",
       "\n",
       "    .dataframe tbody tr th {\n",
       "        vertical-align: top;\n",
       "    }\n",
       "\n",
       "    .dataframe thead th {\n",
       "        text-align: right;\n",
       "    }\n",
       "</style>\n",
       "<table border=\"1\" class=\"dataframe\">\n",
       "  <thead>\n",
       "    <tr style=\"text-align: right;\">\n",
       "      <th></th>\n",
       "      <th>Revenue</th>\n",
       "      <th>Revenue Growth</th>\n",
       "      <th>Cost of Revenue</th>\n",
       "      <th>Gross Profit</th>\n",
       "      <th>R&amp;D Expenses</th>\n",
       "      <th>SG&amp;A Expense</th>\n",
       "      <th>Operating Expenses</th>\n",
       "      <th>Operating Income</th>\n",
       "      <th>Interest Expense</th>\n",
       "      <th>Earnings before Tax</th>\n",
       "      <th>...</th>\n",
       "      <th>3Y Dividend per Share Growth (per Share)</th>\n",
       "      <th>Receivables growth</th>\n",
       "      <th>Inventory Growth</th>\n",
       "      <th>Asset Growth</th>\n",
       "      <th>Book Value per Share Growth</th>\n",
       "      <th>Debt Growth</th>\n",
       "      <th>R&amp;D Expense Growth</th>\n",
       "      <th>SG&amp;A Expenses Growth</th>\n",
       "      <th>Sector</th>\n",
       "      <th>Class</th>\n",
       "    </tr>\n",
       "  </thead>\n",
       "  <tbody>\n",
       "    <tr>\n",
       "      <th>0</th>\n",
       "      <td>7.440100e+10</td>\n",
       "      <td>-0.0713</td>\n",
       "      <td>3.903000e+10</td>\n",
       "      <td>3.537100e+10</td>\n",
       "      <td>0.000000e+00</td>\n",
       "      <td>2.146100e+10</td>\n",
       "      <td>2.146100e+10</td>\n",
       "      <td>1.391000e+10</td>\n",
       "      <td>7.090000e+08</td>\n",
       "      <td>1.449400e+10</td>\n",
       "      <td>...</td>\n",
       "      <td>0.0751</td>\n",
       "      <td>-0.0187</td>\n",
       "      <td>-0.0217</td>\n",
       "      <td>0.0359</td>\n",
       "      <td>0.0316</td>\n",
       "      <td>0.1228</td>\n",
       "      <td>0.0000</td>\n",
       "      <td>-0.1746</td>\n",
       "      <td>Consumer Defensive</td>\n",
       "      <td>0</td>\n",
       "    </tr>\n",
       "    <tr>\n",
       "      <th>1</th>\n",
       "      <td>3.734148e+09</td>\n",
       "      <td>1.1737</td>\n",
       "      <td>2.805625e+09</td>\n",
       "      <td>9.285226e+08</td>\n",
       "      <td>1.083303e+08</td>\n",
       "      <td>3.441414e+08</td>\n",
       "      <td>7.939267e+08</td>\n",
       "      <td>1.345959e+08</td>\n",
       "      <td>1.214869e+07</td>\n",
       "      <td>1.753823e+08</td>\n",
       "      <td>...</td>\n",
       "      <td>NaN</td>\n",
       "      <td>NaN</td>\n",
       "      <td>NaN</td>\n",
       "      <td>NaN</td>\n",
       "      <td>NaN</td>\n",
       "      <td>NaN</td>\n",
       "      <td>1.6484</td>\n",
       "      <td>1.7313</td>\n",
       "      <td>Consumer Defensive</td>\n",
       "      <td>0</td>\n",
       "    </tr>\n",
       "    <tr>\n",
       "      <th>2</th>\n",
       "      <td>9.837500e+10</td>\n",
       "      <td>0.0182</td>\n",
       "      <td>7.813800e+10</td>\n",
       "      <td>2.023700e+10</td>\n",
       "      <td>0.000000e+00</td>\n",
       "      <td>1.519600e+10</td>\n",
       "      <td>1.751200e+10</td>\n",
       "      <td>2.725000e+09</td>\n",
       "      <td>4.430000e+08</td>\n",
       "      <td>2.270000e+09</td>\n",
       "      <td>...</td>\n",
       "      <td>0.1633</td>\n",
       "      <td>0.0618</td>\n",
       "      <td>0.0981</td>\n",
       "      <td>0.1886</td>\n",
       "      <td>0.3268</td>\n",
       "      <td>0.2738</td>\n",
       "      <td>0.0000</td>\n",
       "      <td>0.0234</td>\n",
       "      <td>Consumer Defensive</td>\n",
       "      <td>1</td>\n",
       "    </tr>\n",
       "    <tr>\n",
       "      <th>3</th>\n",
       "      <td>2.552641e+10</td>\n",
       "      <td>0.0053</td>\n",
       "      <td>1.820268e+10</td>\n",
       "      <td>7.323734e+09</td>\n",
       "      <td>0.000000e+00</td>\n",
       "      <td>6.561162e+09</td>\n",
       "      <td>6.586482e+09</td>\n",
       "      <td>7.372520e+08</td>\n",
       "      <td>4.245910e+08</td>\n",
       "      <td>2.502180e+08</td>\n",
       "      <td>...</td>\n",
       "      <td>0.0000</td>\n",
       "      <td>0.0211</td>\n",
       "      <td>-0.0510</td>\n",
       "      <td>-0.0189</td>\n",
       "      <td>0.1963</td>\n",
       "      <td>-0.0458</td>\n",
       "      <td>0.0000</td>\n",
       "      <td>-0.0060</td>\n",
       "      <td>Consumer Defensive</td>\n",
       "      <td>1</td>\n",
       "    </tr>\n",
       "    <tr>\n",
       "      <th>4</th>\n",
       "      <td>1.790960e+10</td>\n",
       "      <td>0.0076</td>\n",
       "      <td>1.153980e+10</td>\n",
       "      <td>6.369800e+09</td>\n",
       "      <td>0.000000e+00</td>\n",
       "      <td>3.474300e+09</td>\n",
       "      <td>3.412400e+09</td>\n",
       "      <td>2.957400e+09</td>\n",
       "      <td>3.024000e+08</td>\n",
       "      <td>2.707700e+09</td>\n",
       "      <td>...</td>\n",
       "      <td>0.1144</td>\n",
       "      <td>0.0257</td>\n",
       "      <td>0.0090</td>\n",
       "      <td>0.0215</td>\n",
       "      <td>0.0274</td>\n",
       "      <td>0.1025</td>\n",
       "      <td>0.0000</td>\n",
       "      <td>-0.0220</td>\n",
       "      <td>Consumer Defensive</td>\n",
       "      <td>1</td>\n",
       "    </tr>\n",
       "  </tbody>\n",
       "</table>\n",
       "<p>5 rows × 223 columns</p>\n",
       "</div>"
      ],
      "text/plain": [
       "        Revenue  Revenue Growth  Cost of Revenue  Gross Profit  R&D Expenses  \\\n",
       "0  7.440100e+10         -0.0713     3.903000e+10  3.537100e+10  0.000000e+00   \n",
       "1  3.734148e+09          1.1737     2.805625e+09  9.285226e+08  1.083303e+08   \n",
       "2  9.837500e+10          0.0182     7.813800e+10  2.023700e+10  0.000000e+00   \n",
       "3  2.552641e+10          0.0053     1.820268e+10  7.323734e+09  0.000000e+00   \n",
       "4  1.790960e+10          0.0076     1.153980e+10  6.369800e+09  0.000000e+00   \n",
       "\n",
       "   SG&A Expense  Operating Expenses  Operating Income  Interest Expense  \\\n",
       "0  2.146100e+10        2.146100e+10      1.391000e+10      7.090000e+08   \n",
       "1  3.441414e+08        7.939267e+08      1.345959e+08      1.214869e+07   \n",
       "2  1.519600e+10        1.751200e+10      2.725000e+09      4.430000e+08   \n",
       "3  6.561162e+09        6.586482e+09      7.372520e+08      4.245910e+08   \n",
       "4  3.474300e+09        3.412400e+09      2.957400e+09      3.024000e+08   \n",
       "\n",
       "   Earnings before Tax  ...  3Y Dividend per Share Growth (per Share)  \\\n",
       "0         1.449400e+10  ...                                    0.0751   \n",
       "1         1.753823e+08  ...                                       NaN   \n",
       "2         2.270000e+09  ...                                    0.1633   \n",
       "3         2.502180e+08  ...                                    0.0000   \n",
       "4         2.707700e+09  ...                                    0.1144   \n",
       "\n",
       "   Receivables growth  Inventory Growth  Asset Growth  \\\n",
       "0             -0.0187           -0.0217        0.0359   \n",
       "1                 NaN               NaN           NaN   \n",
       "2              0.0618            0.0981        0.1886   \n",
       "3              0.0211           -0.0510       -0.0189   \n",
       "4              0.0257            0.0090        0.0215   \n",
       "\n",
       "   Book Value per Share Growth  Debt Growth  R&D Expense Growth  \\\n",
       "0                       0.0316       0.1228              0.0000   \n",
       "1                          NaN          NaN              1.6484   \n",
       "2                       0.3268       0.2738              0.0000   \n",
       "3                       0.1963      -0.0458              0.0000   \n",
       "4                       0.0274       0.1025              0.0000   \n",
       "\n",
       "   SG&A Expenses Growth              Sector  Class  \n",
       "0               -0.1746  Consumer Defensive      0  \n",
       "1                1.7313  Consumer Defensive      0  \n",
       "2                0.0234  Consumer Defensive      1  \n",
       "3               -0.0060  Consumer Defensive      1  \n",
       "4               -0.0220  Consumer Defensive      1  \n",
       "\n",
       "[5 rows x 223 columns]"
      ]
     },
     "execution_count": 20,
     "metadata": {},
     "output_type": "execute_result"
    }
   ],
   "source": [
    "data.head()"
   ]
  },
  {
   "cell_type": "code",
   "execution_count": 21,
   "metadata": {
    "colab": {
     "base_uri": "https://localhost:8080/",
     "height": 480
    },
    "id": "zntJlDn4BvII",
    "outputId": "7e51a9f3-0f7a-43a1-8987-1ed75d1b5c9a",
    "tags": []
   },
   "outputs": [
    {
     "name": "stderr",
     "output_type": "stream",
     "text": [
      "/var/folders/k9/c5v7fnr909n_832ky4wnxgm80000gn/T/ipykernel_34563/1275921308.py:3: FutureWarning: \n",
      "\n",
      "Passing `palette` without assigning `hue` is deprecated and will be removed in v0.14.0. Assign the `x` variable to `hue` and set `legend=False` for the same effect.\n",
      "\n",
      "  sns.countplot(data=data, x='Class', palette='viridis')\n"
     ]
    },
    {
     "data": {
      "image/png": "[encoded data removed]",
      "text/plain": [
       "<Figure size 640x480 with 1 Axes>"
      ]
     },
     "metadata": {},
     "output_type": "display_data"
    }
   ],
   "source": [
    "# visualize class distribution\n",
    "sns.set(style=\"whitegrid\")\n",
    "sns.countplot(data=data, x='Class', palette='viridis')\n",
    "plt.title('Bar Graph of Class')\n",
    "plt.xlabel('Class')\n",
    "plt.ylabel('Count')\n",
    "plt.savefig('figure1.png', dpi=300,bbox_inches='tight')\n",
    "plt.show()"
   ]
  },
  {
   "cell_type": "code",
   "execution_count": 22,
   "metadata": {
    "tags": []
   },
   "outputs": [
    {
     "name": "stderr",
     "output_type": "stream",
     "text": [
      "/var/folders/k9/c5v7fnr909n_832ky4wnxgm80000gn/T/ipykernel_34563/13479960.py:3: FutureWarning: \n",
      "\n",
      "Passing `palette` without assigning `hue` is deprecated and will be removed in v0.14.0. Assign the `x` variable to `hue` and set `legend=False` for the same effect.\n",
      "\n",
      "  sns.countplot(data=data, x='Sector', palette='viridis')\n"
     ]
    },
    {
     "data": {
      "image/png": "[encoded data removed]",
      "text/plain": [
       "<Figure size 640x480 with 1 Axes>"
      ]
     },
     "metadata": {},
     "output_type": "display_data"
    }
   ],
   "source": [
    "# visualize sector distribution\n",
    "sns.set(style=\"whitegrid\")\n",
    "sns.countplot(data=data, x='Sector', palette='viridis')\n",
    "plt.title('Bar Graph of Sector')\n",
    "plt.xlabel('Sector')\n",
    "plt.ylabel('Count')\n",
    "plt.xticks(rotation=90,fontsize=8)\n",
    "plt.savefig('figure2.png', dpi=300,bbox_inches='tight')\n",
    "plt.show()"
   ]
  },
  {
   "cell_type": "code",
   "execution_count": 23,
   "metadata": {
    "tags": []
   },
   "outputs": [
    {
     "data": {
      "image/png": "[encoded data removed]",
      "text/plain": [
       "<Figure size 640x480 with 2 Axes>"
      ]
     },
     "metadata": {},
     "output_type": "display_data"
    }
   ],
   "source": [
    "subset = data.iloc[:, :10]\n",
    "subset_corr = subset.corr()\n",
    "sns.heatmap(subset_corr, annot=True, cmap='coolwarm', fmt=\".2f\")\n",
    "plt.title('Correlation Plot')\n",
    "plt.yticks(fontsize=10)\n",
    "plt.xticks(fontsize=10)\n",
    "plt.savefig('figure3.png', dpi=300,bbox_inches='tight')\n",
    "plt.show()"
   ]
  },
  {
   "cell_type": "markdown",
   "metadata": {
    "id": "Tj88yYOyX4jK"
   },
   "source": [
    "## Basic Feature Engineering"
   ]
  },
  {
   "cell_type": "code",
   "execution_count": 12,
   "metadata": {
    "colab": {
     "base_uri": "https://localhost:8080/"
    },
    "id": "R35I7vItC2w3",
    "outputId": "d3ea9695-f9be-4f5b-e5c1-27808ba7c768",
    "tags": []
   },
   "outputs": [
    {
     "name": "stdout",
     "output_type": "stream",
     "text": [
      "                              Revenue  Revenue Growth  Cost of Revenue  \\\n",
      "Revenue                      1.000000       -0.002762         0.978873   \n",
      "Revenue Growth              -0.002762        1.000000        -0.002322   \n",
      "Cost of Revenue              0.978873       -0.002322         1.000000   \n",
      "Gross Profit                 0.803631       -0.002995         0.664948   \n",
      "R&D Expenses                 0.342421       -0.001327         0.277569   \n",
      "...                               ...             ...              ...   \n",
      "Book Value per Share Growth -0.001580        0.000250        -0.001930   \n",
      "Debt Growth                 -0.004237        0.000937        -0.003759   \n",
      "R&D Expense Growth          -0.005282        0.000063        -0.004424   \n",
      "SG&A Expenses Growth        -0.005087        0.000279        -0.004152   \n",
      "Class                        0.021706       -0.006344         0.017588   \n",
      "\n",
      "                             Gross Profit  R&D Expenses  SG&A Expense  \\\n",
      "Revenue                          0.803631      0.342421      0.581138   \n",
      "Revenue Growth                  -0.002995     -0.001327     -0.002722   \n",
      "Cost of Revenue                  0.664948      0.277569      0.438070   \n",
      "Gross Profit                     1.000000      0.460968      0.847257   \n",
      "R&D Expenses                     0.460968      1.000000      0.284509   \n",
      "...                                   ...           ...           ...   \n",
      "Book Value per Share Growth     -0.000436     -0.000180     -0.000275   \n",
      "Debt Growth                     -0.003987     -0.002030     -0.003942   \n",
      "R&D Expense Growth              -0.005491     -0.000822     -0.004953   \n",
      "SG&A Expenses Growth            -0.005503     -0.002117     -0.004746   \n",
      "Class                            0.030948      0.034650      0.033155   \n",
      "\n",
      "                             Operating Expenses  Operating Income  \\\n",
      "Revenue                                0.810497          0.664840   \n",
      "Revenue Growth                        -0.002880         -0.002662   \n",
      "Cost of Revenue                        0.610563          0.465968   \n",
      "Gross Profit                           0.956302          0.845929   \n",
      "R&D Expenses                           0.389132          0.397971   \n",
      "...                                         ...               ...   \n",
      "Book Value per Share Growth           -0.000702          0.000188   \n",
      "Debt Growth                           -0.004344         -0.002249   \n",
      "R&D Expense Growth                    -0.005040         -0.004889   \n",
      "SG&A Expenses Growth                  -0.005083         -0.004753   \n",
      "Class                                  0.026222          0.036642   \n",
      "\n",
      "                             Interest Expense  Earnings before Tax  ...  \\\n",
      "Revenue                              0.626497             0.667234  ...   \n",
      "Revenue Growth                      -0.002699            -0.002629  ...   \n",
      "Cost of Revenue                      0.567145             0.487396  ...   \n",
      "Gross Profit                         0.638521             0.816913  ...   \n",
      "R&D Expenses                         0.180715             0.474353  ...   \n",
      "...                                       ...                  ...  ...   \n",
      "Book Value per Share Growth          0.000190             0.000290  ...   \n",
      "Debt Growth                         -0.002276            -0.002268  ...   \n",
      "R&D Expense Growth                  -0.004996            -0.004661  ...   \n",
      "SG&A Expenses Growth                -0.004889            -0.004597  ...   \n",
      "Class                                0.016789             0.039266  ...   \n",
      "\n",
      "                             5Y Dividend per Share Growth (per Share)  \\\n",
      "Revenue                                                      0.066398   \n",
      "Revenue Growth                                              -0.000076   \n",
      "Cost of Revenue                                              0.052653   \n",
      "Gross Profit                                                 0.075368   \n",
      "R&D Expenses                                                 0.030517   \n",
      "...                                                               ...   \n",
      "Book Value per Share Growth                                 -0.000311   \n",
      "Debt Growth                                                  0.003155   \n",
      "R&D Expense Growth                                          -0.003701   \n",
      "SG&A Expenses Growth                                         0.006698   \n",
      "Class                                                        0.055429   \n",
      "\n",
      "                             3Y Dividend per Share Growth (per Share)  \\\n",
      "Revenue                                                      0.049766   \n",
      "Revenue Growth                                              -0.000826   \n",
      "Cost of Revenue                                              0.039019   \n",
      "Gross Profit                                                 0.057078   \n",
      "R&D Expenses                                                 0.022071   \n",
      "...                                                               ...   \n",
      "Book Value per Share Growth                                 -0.000532   \n",
      "Debt Growth                                                 -0.001071   \n",
      "R&D Expense Growth                                          -0.004653   \n",
      "SG&A Expenses Growth                                         0.000487   \n",
      "Class                                                        0.049497   \n",
      "\n",
      "                             Receivables growth  Inventory Growth  \\\n",
      "Revenue                               -0.002403         -0.008144   \n",
      "Revenue Growth                         0.006813          0.002319   \n",
      "Cost of Revenue                       -0.003491         -0.006340   \n",
      "Gross Profit                          -0.002513         -0.009369   \n",
      "R&D Expenses                          -0.001681         -0.002503   \n",
      "...                                         ...               ...   \n",
      "Book Value per Share Growth            0.000303          0.000861   \n",
      "Debt Growth                            0.000012          0.001672   \n",
      "R&D Expense Growth                    -0.000166          0.002495   \n",
      "SG&A Expenses Growth                   0.000146          0.003755   \n",
      "Class                                  0.004413         -0.009692   \n",
      "\n",
      "                             Asset Growth  Book Value per Share Growth  \\\n",
      "Revenue                         -0.005637                    -0.001580   \n",
      "Revenue Growth                   0.000098                     0.000250   \n",
      "Cost of Revenue                 -0.004605                    -0.001930   \n",
      "Gross Profit                    -0.006254                    -0.000436   \n",
      "R&D Expenses                    -0.002864                    -0.000180   \n",
      "...                                   ...                          ...   \n",
      "Book Value per Share Growth      0.021855                     1.000000   \n",
      "Debt Growth                      0.001430                     0.008232   \n",
      "R&D Expense Growth               0.002460                    -0.002085   \n",
      "SG&A Expenses Growth             0.035782                     0.002437   \n",
      "Class                           -0.003515                    -0.016437   \n",
      "\n",
      "                             Debt Growth  R&D Expense Growth  \\\n",
      "Revenue                        -0.004237           -0.005282   \n",
      "Revenue Growth                  0.000937            0.000063   \n",
      "Cost of Revenue                -0.003759           -0.004424   \n",
      "Gross Profit                   -0.003987           -0.005491   \n",
      "R&D Expenses                   -0.002030           -0.000822   \n",
      "...                                  ...                 ...   \n",
      "Book Value per Share Growth     0.008232           -0.002085   \n",
      "Debt Growth                     1.000000            0.001347   \n",
      "R&D Expense Growth              0.001347            1.000000   \n",
      "SG&A Expenses Growth            0.025673            0.006321   \n",
      "Class                           0.005874           -0.001809   \n",
      "\n",
      "                             SG&A Expenses Growth     Class  \n",
      "Revenue                                 -0.005087  0.021706  \n",
      "Revenue Growth                           0.000279 -0.006344  \n",
      "Cost of Revenue                         -0.004152  0.017588  \n",
      "Gross Profit                            -0.005503  0.030948  \n",
      "R&D Expenses                            -0.002117  0.034650  \n",
      "...                                           ...       ...  \n",
      "Book Value per Share Growth              0.002437 -0.016437  \n",
      "Debt Growth                              0.025673  0.005874  \n",
      "R&D Expense Growth                       0.006321 -0.001809  \n",
      "SG&A Expenses Growth                     1.000000 -0.013750  \n",
      "Class                                   -0.013750  1.000000  \n",
      "\n",
      "[222 rows x 222 columns]\n"
     ]
    }
   ],
   "source": [
    "# print correlation\n",
    "numerical = [col for col in data.columns if data[col].dtype!='O']\n",
    "correlation_matrix = data[numerical].corr()\n",
    "print(correlation_matrix)"
   ]
  },
  {
   "cell_type": "code",
   "execution_count": 13,
   "metadata": {
    "colab": {
     "base_uri": "https://localhost:8080/",
     "height": 444
    },
    "id": "B9EPTGqoJkoc",
    "outputId": "0fa9bc61-52d4-49ce-b20b-472756a6c316",
    "tags": []
   },
   "outputs": [
    {
     "data": {
      "text/html": [
       "<div>\n",
       "<style scoped>\n",
       "    .dataframe tbody tr th:only-of-type {\n",
       "        vertical-align: middle;\n",
       "    }\n",
       "\n",
       "    .dataframe tbody tr th {\n",
       "        vertical-align: top;\n",
       "    }\n",
       "\n",
       "    .dataframe thead th {\n",
       "        text-align: right;\n",
       "    }\n",
       "</style>\n",
       "<table border=\"1\" class=\"dataframe\">\n",
       "  <thead>\n",
       "    <tr style=\"text-align: right;\">\n",
       "      <th></th>\n",
       "      <th>0</th>\n",
       "      <th>1</th>\n",
       "      <th>2</th>\n",
       "      <th>3</th>\n",
       "      <th>4</th>\n",
       "      <th>5</th>\n",
       "      <th>6</th>\n",
       "      <th>7</th>\n",
       "      <th>8</th>\n",
       "      <th>9</th>\n",
       "      <th>...</th>\n",
       "      <th>212</th>\n",
       "      <th>213</th>\n",
       "      <th>214</th>\n",
       "      <th>215</th>\n",
       "      <th>216</th>\n",
       "      <th>217</th>\n",
       "      <th>218</th>\n",
       "      <th>219</th>\n",
       "      <th>220</th>\n",
       "      <th>221</th>\n",
       "    </tr>\n",
       "  </thead>\n",
       "  <tbody>\n",
       "    <tr>\n",
       "      <th>0</th>\n",
       "      <td>1.0</td>\n",
       "      <td>-0.002762</td>\n",
       "      <td>0.978873</td>\n",
       "      <td>0.803631</td>\n",
       "      <td>0.342421</td>\n",
       "      <td>0.581138</td>\n",
       "      <td>0.810497</td>\n",
       "      <td>0.664840</td>\n",
       "      <td>0.626497</td>\n",
       "      <td>0.667234</td>\n",
       "      <td>...</td>\n",
       "      <td>0.066398</td>\n",
       "      <td>0.049766</td>\n",
       "      <td>-0.002403</td>\n",
       "      <td>-0.008144</td>\n",
       "      <td>-0.005637</td>\n",
       "      <td>-0.001580</td>\n",
       "      <td>-0.004237</td>\n",
       "      <td>-0.005282</td>\n",
       "      <td>-0.005087</td>\n",
       "      <td>0.021706</td>\n",
       "    </tr>\n",
       "    <tr>\n",
       "      <th>1</th>\n",
       "      <td>0.0</td>\n",
       "      <td>1.000000</td>\n",
       "      <td>-0.002322</td>\n",
       "      <td>-0.002995</td>\n",
       "      <td>-0.001327</td>\n",
       "      <td>-0.002722</td>\n",
       "      <td>-0.002880</td>\n",
       "      <td>-0.002662</td>\n",
       "      <td>-0.002699</td>\n",
       "      <td>-0.002629</td>\n",
       "      <td>...</td>\n",
       "      <td>-0.000076</td>\n",
       "      <td>-0.000826</td>\n",
       "      <td>0.006813</td>\n",
       "      <td>0.002319</td>\n",
       "      <td>0.000098</td>\n",
       "      <td>0.000250</td>\n",
       "      <td>0.000937</td>\n",
       "      <td>0.000063</td>\n",
       "      <td>0.000279</td>\n",
       "      <td>-0.006344</td>\n",
       "    </tr>\n",
       "    <tr>\n",
       "      <th>2</th>\n",
       "      <td>0.0</td>\n",
       "      <td>0.000000</td>\n",
       "      <td>1.000000</td>\n",
       "      <td>0.664948</td>\n",
       "      <td>0.277569</td>\n",
       "      <td>0.438070</td>\n",
       "      <td>0.610563</td>\n",
       "      <td>0.465968</td>\n",
       "      <td>0.567145</td>\n",
       "      <td>0.487396</td>\n",
       "      <td>...</td>\n",
       "      <td>0.052653</td>\n",
       "      <td>0.039019</td>\n",
       "      <td>-0.003491</td>\n",
       "      <td>-0.006340</td>\n",
       "      <td>-0.004605</td>\n",
       "      <td>-0.001930</td>\n",
       "      <td>-0.003759</td>\n",
       "      <td>-0.004424</td>\n",
       "      <td>-0.004152</td>\n",
       "      <td>0.017588</td>\n",
       "    </tr>\n",
       "    <tr>\n",
       "      <th>3</th>\n",
       "      <td>0.0</td>\n",
       "      <td>0.000000</td>\n",
       "      <td>0.000000</td>\n",
       "      <td>1.000000</td>\n",
       "      <td>0.460968</td>\n",
       "      <td>0.847257</td>\n",
       "      <td>0.956302</td>\n",
       "      <td>0.845929</td>\n",
       "      <td>0.638521</td>\n",
       "      <td>0.816913</td>\n",
       "      <td>...</td>\n",
       "      <td>0.075368</td>\n",
       "      <td>0.057078</td>\n",
       "      <td>-0.002513</td>\n",
       "      <td>-0.009369</td>\n",
       "      <td>-0.006254</td>\n",
       "      <td>-0.000436</td>\n",
       "      <td>-0.003987</td>\n",
       "      <td>-0.005491</td>\n",
       "      <td>-0.005503</td>\n",
       "      <td>0.030948</td>\n",
       "    </tr>\n",
       "    <tr>\n",
       "      <th>4</th>\n",
       "      <td>0.0</td>\n",
       "      <td>0.000000</td>\n",
       "      <td>0.000000</td>\n",
       "      <td>0.000000</td>\n",
       "      <td>1.000000</td>\n",
       "      <td>0.284509</td>\n",
       "      <td>0.389132</td>\n",
       "      <td>0.397971</td>\n",
       "      <td>0.180715</td>\n",
       "      <td>0.474353</td>\n",
       "      <td>...</td>\n",
       "      <td>0.030517</td>\n",
       "      <td>0.022071</td>\n",
       "      <td>-0.001681</td>\n",
       "      <td>-0.002503</td>\n",
       "      <td>-0.002864</td>\n",
       "      <td>-0.000180</td>\n",
       "      <td>-0.002030</td>\n",
       "      <td>-0.000822</td>\n",
       "      <td>-0.002117</td>\n",
       "      <td>0.034650</td>\n",
       "    </tr>\n",
       "    <tr>\n",
       "      <th>...</th>\n",
       "      <td>...</td>\n",
       "      <td>...</td>\n",
       "      <td>...</td>\n",
       "      <td>...</td>\n",
       "      <td>...</td>\n",
       "      <td>...</td>\n",
       "      <td>...</td>\n",
       "      <td>...</td>\n",
       "      <td>...</td>\n",
       "      <td>...</td>\n",
       "      <td>...</td>\n",
       "      <td>...</td>\n",
       "      <td>...</td>\n",
       "      <td>...</td>\n",
       "      <td>...</td>\n",
       "      <td>...</td>\n",
       "      <td>...</td>\n",
       "      <td>...</td>\n",
       "      <td>...</td>\n",
       "      <td>...</td>\n",
       "      <td>...</td>\n",
       "    </tr>\n",
       "    <tr>\n",
       "      <th>217</th>\n",
       "      <td>0.0</td>\n",
       "      <td>0.000000</td>\n",
       "      <td>0.000000</td>\n",
       "      <td>0.000000</td>\n",
       "      <td>0.000000</td>\n",
       "      <td>0.000000</td>\n",
       "      <td>0.000000</td>\n",
       "      <td>0.000000</td>\n",
       "      <td>0.000000</td>\n",
       "      <td>0.000000</td>\n",
       "      <td>...</td>\n",
       "      <td>0.000000</td>\n",
       "      <td>0.000000</td>\n",
       "      <td>0.000000</td>\n",
       "      <td>0.000000</td>\n",
       "      <td>0.000000</td>\n",
       "      <td>1.000000</td>\n",
       "      <td>0.008232</td>\n",
       "      <td>-0.002085</td>\n",
       "      <td>0.002437</td>\n",
       "      <td>-0.016437</td>\n",
       "    </tr>\n",
       "    <tr>\n",
       "      <th>218</th>\n",
       "      <td>0.0</td>\n",
       "      <td>0.000000</td>\n",
       "      <td>0.000000</td>\n",
       "      <td>0.000000</td>\n",
       "      <td>0.000000</td>\n",
       "      <td>0.000000</td>\n",
       "      <td>0.000000</td>\n",
       "      <td>0.000000</td>\n",
       "      <td>0.000000</td>\n",
       "      <td>0.000000</td>\n",
       "      <td>...</td>\n",
       "      <td>0.000000</td>\n",
       "      <td>0.000000</td>\n",
       "      <td>0.000000</td>\n",
       "      <td>0.000000</td>\n",
       "      <td>0.000000</td>\n",
       "      <td>0.000000</td>\n",
       "      <td>1.000000</td>\n",
       "      <td>0.001347</td>\n",
       "      <td>0.025673</td>\n",
       "      <td>0.005874</td>\n",
       "    </tr>\n",
       "    <tr>\n",
       "      <th>219</th>\n",
       "      <td>0.0</td>\n",
       "      <td>0.000000</td>\n",
       "      <td>0.000000</td>\n",
       "      <td>0.000000</td>\n",
       "      <td>0.000000</td>\n",
       "      <td>0.000000</td>\n",
       "      <td>0.000000</td>\n",
       "      <td>0.000000</td>\n",
       "      <td>0.000000</td>\n",
       "      <td>0.000000</td>\n",
       "      <td>...</td>\n",
       "      <td>0.000000</td>\n",
       "      <td>0.000000</td>\n",
       "      <td>0.000000</td>\n",
       "      <td>0.000000</td>\n",
       "      <td>0.000000</td>\n",
       "      <td>0.000000</td>\n",
       "      <td>0.000000</td>\n",
       "      <td>1.000000</td>\n",
       "      <td>0.006321</td>\n",
       "      <td>-0.001809</td>\n",
       "    </tr>\n",
       "    <tr>\n",
       "      <th>220</th>\n",
       "      <td>0.0</td>\n",
       "      <td>0.000000</td>\n",
       "      <td>0.000000</td>\n",
       "      <td>0.000000</td>\n",
       "      <td>0.000000</td>\n",
       "      <td>0.000000</td>\n",
       "      <td>0.000000</td>\n",
       "      <td>0.000000</td>\n",
       "      <td>0.000000</td>\n",
       "      <td>0.000000</td>\n",
       "      <td>...</td>\n",
       "      <td>0.000000</td>\n",
       "      <td>0.000000</td>\n",
       "      <td>0.000000</td>\n",
       "      <td>0.000000</td>\n",
       "      <td>0.000000</td>\n",
       "      <td>0.000000</td>\n",
       "      <td>0.000000</td>\n",
       "      <td>0.000000</td>\n",
       "      <td>1.000000</td>\n",
       "      <td>-0.013750</td>\n",
       "    </tr>\n",
       "    <tr>\n",
       "      <th>221</th>\n",
       "      <td>0.0</td>\n",
       "      <td>0.000000</td>\n",
       "      <td>0.000000</td>\n",
       "      <td>0.000000</td>\n",
       "      <td>0.000000</td>\n",
       "      <td>0.000000</td>\n",
       "      <td>0.000000</td>\n",
       "      <td>0.000000</td>\n",
       "      <td>0.000000</td>\n",
       "      <td>0.000000</td>\n",
       "      <td>...</td>\n",
       "      <td>0.000000</td>\n",
       "      <td>0.000000</td>\n",
       "      <td>0.000000</td>\n",
       "      <td>0.000000</td>\n",
       "      <td>0.000000</td>\n",
       "      <td>0.000000</td>\n",
       "      <td>0.000000</td>\n",
       "      <td>0.000000</td>\n",
       "      <td>0.000000</td>\n",
       "      <td>1.000000</td>\n",
       "    </tr>\n",
       "  </tbody>\n",
       "</table>\n",
       "<p>222 rows × 222 columns</p>\n",
       "</div>"
      ],
      "text/plain": [
       "     0         1         2         3         4         5         6    \\\n",
       "0    1.0 -0.002762  0.978873  0.803631  0.342421  0.581138  0.810497   \n",
       "1    0.0  1.000000 -0.002322 -0.002995 -0.001327 -0.002722 -0.002880   \n",
       "2    0.0  0.000000  1.000000  0.664948  0.277569  0.438070  0.610563   \n",
       "3    0.0  0.000000  0.000000  1.000000  0.460968  0.847257  0.956302   \n",
       "4    0.0  0.000000  0.000000  0.000000  1.000000  0.284509  0.389132   \n",
       "..   ...       ...       ...       ...       ...       ...       ...   \n",
       "217  0.0  0.000000  0.000000  0.000000  0.000000  0.000000  0.000000   \n",
       "218  0.0  0.000000  0.000000  0.000000  0.000000  0.000000  0.000000   \n",
       "219  0.0  0.000000  0.000000  0.000000  0.000000  0.000000  0.000000   \n",
       "220  0.0  0.000000  0.000000  0.000000  0.000000  0.000000  0.000000   \n",
       "221  0.0  0.000000  0.000000  0.000000  0.000000  0.000000  0.000000   \n",
       "\n",
       "          7         8         9    ...       212       213       214  \\\n",
       "0    0.664840  0.626497  0.667234  ...  0.066398  0.049766 -0.002403   \n",
       "1   -0.002662 -0.002699 -0.002629  ... -0.000076 -0.000826  0.006813   \n",
       "2    0.465968  0.567145  0.487396  ...  0.052653  0.039019 -0.003491   \n",
       "3    0.845929  0.638521  0.816913  ...  0.075368  0.057078 -0.002513   \n",
       "4    0.397971  0.180715  0.474353  ...  0.030517  0.022071 -0.001681   \n",
       "..        ...       ...       ...  ...       ...       ...       ...   \n",
       "217  0.000000  0.000000  0.000000  ...  0.000000  0.000000  0.000000   \n",
       "218  0.000000  0.000000  0.000000  ...  0.000000  0.000000  0.000000   \n",
       "219  0.000000  0.000000  0.000000  ...  0.000000  0.000000  0.000000   \n",
       "220  0.000000  0.000000  0.000000  ...  0.000000  0.000000  0.000000   \n",
       "221  0.000000  0.000000  0.000000  ...  0.000000  0.000000  0.000000   \n",
       "\n",
       "          215       216       217       218       219       220       221  \n",
       "0   -0.008144 -0.005637 -0.001580 -0.004237 -0.005282 -0.005087  0.021706  \n",
       "1    0.002319  0.000098  0.000250  0.000937  0.000063  0.000279 -0.006344  \n",
       "2   -0.006340 -0.004605 -0.001930 -0.003759 -0.004424 -0.004152  0.017588  \n",
       "3   -0.009369 -0.006254 -0.000436 -0.003987 -0.005491 -0.005503  0.030948  \n",
       "4   -0.002503 -0.002864 -0.000180 -0.002030 -0.000822 -0.002117  0.034650  \n",
       "..        ...       ...       ...       ...       ...       ...       ...  \n",
       "217  0.000000  0.000000  1.000000  0.008232 -0.002085  0.002437 -0.016437  \n",
       "218  0.000000  0.000000  0.000000  1.000000  0.001347  0.025673  0.005874  \n",
       "219  0.000000  0.000000  0.000000  0.000000  1.000000  0.006321 -0.001809  \n",
       "220  0.000000  0.000000  0.000000  0.000000  0.000000  1.000000 -0.013750  \n",
       "221  0.000000  0.000000  0.000000  0.000000  0.000000  0.000000  1.000000  \n",
       "\n",
       "[222 rows x 222 columns]"
      ]
     },
     "execution_count": 13,
     "metadata": {},
     "output_type": "execute_result"
    }
   ],
   "source": [
    "upper_corr = np.triu(correlation_matrix)\n",
    "upper_corr = pd.DataFrame(upper_corr)\n",
    "upper_corr"
   ]
  },
  {
   "cell_type": "code",
   "execution_count": 14,
   "metadata": {
    "id": "77Ql32oVJ2B7",
    "tags": []
   },
   "outputs": [],
   "source": [
    "to_drop = []\n",
    "\n",
    "# Iterate through the upper traingular correlation matrix\n",
    "for i in range(len(correlation_matrix.columns)-1):\n",
    "    for j in range(i+1):\n",
    "        item = upper_corr.iloc[j:(j+1), (i+1):(i+2)]\n",
    "        col = item.columns\n",
    "\n",
    "        if abs(item.values) >= 0.8: # threshold\n",
    "            to_drop.append(col.values[0])\n",
    "\n",
    "# Drop\n",
    "data = data.drop(data.columns[to_drop], axis = 1)"
   ]
  },
  {
   "cell_type": "code",
   "execution_count": 16,
   "metadata": {
    "colab": {
     "base_uri": "https://localhost:8080/"
    },
    "id": "ET9PMR813Aoi",
    "outputId": "cdb7e6cb-77bc-426d-87c2-f0459cacd4c1",
    "tags": []
   },
   "outputs": [
    {
     "name": "stdout",
     "output_type": "stream",
     "text": [
      "Revenue                        1171\n",
      "Revenue Growth                 2088\n",
      "R&D Expenses                   2138\n",
      "Interest Expense               1719\n",
      "Income Tax Expense             1588\n",
      "                               ... \n",
      "Book Value per Share Growth    2864\n",
      "Debt Growth                    2615\n",
      "R&D Expense Growth             2479\n",
      "Sector                            0\n",
      "Class                             0\n",
      "Length: 109, dtype: int64\n"
     ]
    }
   ],
   "source": [
    "missing_data = data.isnull().sum()\n",
    "print(missing_data)"
   ]
  },
  {
   "cell_type": "code",
   "execution_count": 17,
   "metadata": {
    "colab": {
     "base_uri": "https://localhost:8080/"
    },
    "id": "JN82zpPB3pWu",
    "outputId": "dfaeef41-802e-448b-a2b9-f3f33de72a93",
    "tags": []
   },
   "outputs": [
    {
     "data": {
      "text/plain": [
       "Series([], dtype: int64)"
      ]
     },
     "execution_count": 17,
     "metadata": {},
     "output_type": "execute_result"
    }
   ],
   "source": [
    "observations = data.shape[0]\n",
    "threshold = observations * 0.5\n",
    "large_proportion_missing = missing_data[missing_data > threshold]\n",
    "large_proportion_missing"
   ]
  },
  {
   "cell_type": "code",
   "execution_count": 18,
   "metadata": {
    "id": "KHPaGs514NoA",
    "tags": []
   },
   "outputs": [],
   "source": [
    "# drop columns that have over 50% of missing data\n",
    "data.drop(columns=large_proportion_missing.index, inplace=True)"
   ]
  },
  {
   "cell_type": "code",
   "execution_count": 19,
   "metadata": {
    "id": "9dSd7mvx4wZ5",
    "tags": []
   },
   "outputs": [],
   "source": [
    "# train test split for modeling\n",
    "predictors = [col for col in data.columns if col != 'Class']\n",
    "X_train, X_test, y_train, y_test = train_test_split(data[predictors], data['Class'], test_size=0.2, random_state=42)"
   ]
  },
  {
   "cell_type": "code",
   "execution_count": 20,
   "metadata": {
    "tags": []
   },
   "outputs": [],
   "source": [
    "# standardize numeric features\n",
    "scaler = StandardScaler()\n",
    "X_train[X_train.columns[:-1]] = scaler.fit_transform(X_train[X_train.columns[:-1]])\n",
    "X_test[X_test.columns[:-1]] = scaler.transform(X_test[X_test.columns[:-1]])\n",
    "\n",
    "# one-hot encode sector\n",
    "X_train = pd.get_dummies(X_train, columns = [\"Sector\"])\n",
    "X_test = pd.get_dummies(X_test, columns = [\"Sector\"])\n",
    "\n",
    "# use knn to impute the rest of missing columns\n",
    "imputer = KNNImputer(n_neighbors=5)\n",
    "X_train = pd.DataFrame(imputer.fit_transform(X_train), columns=X_train.columns)\n",
    "X_test = pd.DataFrame(imputer.transform(X_test), columns=X_test.columns)"
   ]
  },
  {
   "cell_type": "code",
   "execution_count": 32,
   "metadata": {
    "tags": []
   },
   "outputs": [
    {
     "data": {
      "text/plain": [
       "Revenue               0\n",
       "Revenue Growth        0\n",
       "R&D Expenses          0\n",
       "Interest Expense      0\n",
       "Income Tax Expense    0\n",
       "                     ..\n",
       "Sector_Healthcare     0\n",
       "Sector_Industrials    0\n",
       "Sector_Real Estate    0\n",
       "Sector_Technology     0\n",
       "Sector_Utilities      0\n",
       "Length: 118, dtype: int64"
      ]
     },
     "execution_count": 32,
     "metadata": {},
     "output_type": "execute_result"
    }
   ],
   "source": [
    "# check missing data again\n",
    "X_train.isnull().sum()"
   ]
  },
  {
   "cell_type": "markdown",
   "metadata": {
    "id": "dG4lLvwCQjv-"
   },
   "source": [
    "## Modelling"
   ]
  },
  {
   "cell_type": "code",
   "execution_count": 21,
   "metadata": {},
   "outputs": [],
   "source": [
    "Results = pd.DataFrame({'Metric': ['True Positives', 'False Positives', 'True Negatives', 'False Negatives', 'Train_Accuracy', 'Test_Accuracy', 'Train_AUC', 'Test_AUC']})"
   ]
  },
  {
   "cell_type": "markdown",
   "metadata": {},
   "source": [
    "### Baseline (Majority Class Prediction)"
   ]
  },
  {
   "cell_type": "code",
   "execution_count": 27,
   "metadata": {},
   "outputs": [
    {
     "name": "stdout",
     "output_type": "stream",
     "text": [
      "0.5541213768115942\n",
      "0.5\n"
     ]
    }
   ],
   "source": [
    "# majority class is 1\n",
    "baseline_pred = [1] * X_test.shape[0]\n",
    "\n",
    "test_accuracy = accuracy_score(y_test, baseline_pred)\n",
    "auc_test = roc_auc_score(y_test, baseline_pred)\n",
    "\n",
    "print(test_accuracy)\n",
    "print(auc_test)"
   ]
  },
  {
   "cell_type": "code",
   "execution_count": 28,
   "metadata": {},
   "outputs": [
    {
     "data": {
      "image/png": "[encoded data removed]",
      "text/plain": [
       "<Figure size 640x480 with 2 Axes>"
      ]
     },
     "metadata": {},
     "output_type": "display_data"
    }
   ],
   "source": [
    "cm = confusion_matrix(y_test, baseline_pred)\n",
    "disp = ConfusionMatrixDisplay(confusion_matrix=cm)\n",
    "disp.plot(cmap=plt.cm.Blues, values_format=\"d\")\n",
    "plt.title(\"Confusion Matrix\")\n",
    "plt.show()"
   ]
  },
  {
   "cell_type": "code",
   "execution_count": 29,
   "metadata": {},
   "outputs": [],
   "source": [
    "Results['Baseline'] = [2447, 1969, 0, 0, None, 0.554, None, 0.5]"
   ]
  },
  {
   "cell_type": "markdown",
   "metadata": {},
   "source": [
    "### Logistic Regression (CV)"
   ]
  },
  {
   "cell_type": "code",
   "execution_count": 34,
   "metadata": {
    "id": "aBb8QVNgdKG_",
    "tags": []
   },
   "outputs": [],
   "source": [
    "lr = LogisticRegression(penalty='l2', max_iter = 10000)\n",
    "\n",
    "param_grid = {\n",
    "    'C' : [0.001,0.01,0.1,1,10]\n",
    "\n",
    "}\n",
    "\n",
    "grid_search = GridSearchCV(estimator=lr, param_grid=param_grid, cv=5, scoring='roc_auc')\n",
    "grid_search.fit(X_train, y_train)\n",
    "\n",
    "best_params = grid_search.best_params_\n",
    "best_model = grid_search.best_estimator_\n",
    "\n",
    "y_test_pred = best_model.predict(X_test)\n",
    "y_train_pred = best_model.predict(X_train)\n",
    "\n",
    "training_accuracy = accuracy_score(y_train, y_train_pred)\n",
    "test_accuracy = accuracy_score(y_test, y_test_pred)\n",
    "\n",
    "auc_train = roc_auc_score(y_train,y_train_pred)\n",
    "auc_test = roc_auc_score(y_test,y_test_pred)"
   ]
  },
  {
   "cell_type": "code",
   "execution_count": 35,
   "metadata": {
    "colab": {
     "base_uri": "https://localhost:8080/"
    },
    "id": "KA7R4fJoej-k",
    "outputId": "3892e87b-a0ce-4360-b621-85d81addaea3",
    "tags": []
   },
   "outputs": [
    {
     "data": {
      "text/plain": [
       "0.5973614178132609"
      ]
     },
     "execution_count": 35,
     "metadata": {},
     "output_type": "execute_result"
    }
   ],
   "source": [
    "training_accuracy"
   ]
  },
  {
   "cell_type": "code",
   "execution_count": 36,
   "metadata": {
    "colab": {
     "base_uri": "https://localhost:8080/"
    },
    "id": "fFaZxuTPem3u",
    "outputId": "2d9c4f9b-eb9e-46a9-c1d0-2a7b8b627be4",
    "tags": []
   },
   "outputs": [
    {
     "data": {
      "text/plain": [
       "0.5826539855072463"
      ]
     },
     "execution_count": 36,
     "metadata": {},
     "output_type": "execute_result"
    }
   ],
   "source": [
    "test_accuracy"
   ]
  },
  {
   "cell_type": "code",
   "execution_count": 37,
   "metadata": {
    "colab": {
     "base_uri": "https://localhost:8080/"
    },
    "id": "midVmyrbeoEk",
    "outputId": "29339fa7-5470-4564-82e4-888e45c75d01",
    "tags": []
   },
   "outputs": [
    {
     "data": {
      "text/plain": [
       "0.5756047083414593"
      ]
     },
     "execution_count": 37,
     "metadata": {},
     "output_type": "execute_result"
    }
   ],
   "source": [
    "auc_train"
   ]
  },
  {
   "cell_type": "code",
   "execution_count": 38,
   "metadata": {
    "colab": {
     "base_uri": "https://localhost:8080/"
    },
    "id": "nhdwoayzepOi",
    "outputId": "ef331a45-88b7-4337-a08c-ef71a4de15db",
    "tags": []
   },
   "outputs": [
    {
     "data": {
      "text/plain": [
       "0.5595262531643415"
      ]
     },
     "execution_count": 38,
     "metadata": {},
     "output_type": "execute_result"
    }
   ],
   "source": [
    "auc_test"
   ]
  },
  {
   "cell_type": "code",
   "execution_count": 39,
   "metadata": {},
   "outputs": [
    {
     "data": {
      "image/png": "[encoded data removed]",
      "text/plain": [
       "<Figure size 640x480 with 2 Axes>"
      ]
     },
     "metadata": {},
     "output_type": "display_data"
    }
   ],
   "source": [
    "cm = confusion_matrix(y_test, y_test_pred)\n",
    "disp = ConfusionMatrixDisplay(confusion_matrix=cm)\n",
    "disp.plot(cmap=plt.cm.Blues, values_format=\"d\")\n",
    "plt.title(\"Confusion Matrix\")\n",
    "plt.show()"
   ]
  },
  {
   "cell_type": "code",
   "execution_count": 30,
   "metadata": {},
   "outputs": [],
   "source": [
    "Results['Logistic Regression'] = [1897, 1291, 678, 550, 0.597, 0.583, 0.575, 0.560]"
   ]
  },
  {
   "cell_type": "markdown",
   "metadata": {},
   "source": [
    "### CART (CV)"
   ]
  },
  {
   "cell_type": "code",
   "execution_count": 41,
   "metadata": {
    "id": "pR4_dSkjY8AL",
    "tags": []
   },
   "outputs": [],
   "source": [
    "clf = DecisionTreeClassifier()\n",
    "\n",
    "param_grid = {\n",
    "    'max_depth' : [5, 10, 15, 17],\n",
    "    'min_samples_split': [5, 10, 20, 25],\n",
    "    'min_samples_leaf': [5, 10, 20, 25]\n",
    "}\n",
    "\n",
    "grid_search = GridSearchCV(estimator=clf, param_grid=param_grid, cv=5, scoring='roc_auc')\n",
    "grid_search.fit(X_train, y_train)\n",
    "\n",
    "best_params = grid_search.best_params_\n",
    "best_model = grid_search.best_estimator_\n",
    "\n",
    "y_test_pred = best_model.predict(X_test)\n",
    "y_train_pred = best_model.predict(X_train)\n",
    "\n",
    "training_accuracy = accuracy_score(y_train, y_train_pred)\n",
    "test_accuracy = accuracy_score(y_test, y_test_pred)\n",
    "\n",
    "auc_train = roc_auc_score(y_train,y_train_pred)\n",
    "auc_test = roc_auc_score(y_test,y_test_pred)"
   ]
  },
  {
   "cell_type": "code",
   "execution_count": null,
   "metadata": {
    "colab": {
     "base_uri": "https://localhost:8080/"
    },
    "id": "u6GrAuQDaPG9",
    "outputId": "ffc1a7ea-49eb-43f7-8078-64ea11245f74",
    "tags": []
   },
   "outputs": [
    {
     "data": {
      "text/plain": [
       "0.615197327444652"
      ]
     },
     "execution_count": 32,
     "metadata": {},
     "output_type": "execute_result"
    }
   ],
   "source": [
    "training_accuracy"
   ]
  },
  {
   "cell_type": "code",
   "execution_count": null,
   "metadata": {
    "colab": {
     "base_uri": "https://localhost:8080/"
    },
    "id": "bUROdnbxaQNp",
    "outputId": "ae6fae48-078d-4374-ca03-7c07d4ad43b4",
    "tags": []
   },
   "outputs": [
    {
     "data": {
      "text/plain": [
       "0.5978260869565217"
      ]
     },
     "execution_count": 33,
     "metadata": {},
     "output_type": "execute_result"
    }
   ],
   "source": [
    "test_accuracy"
   ]
  },
  {
   "cell_type": "code",
   "execution_count": null,
   "metadata": {
    "colab": {
     "base_uri": "https://localhost:8080/"
    },
    "id": "XJSkKC55b1jJ",
    "outputId": "8ed59490-12d8-45a8-85b1-1ef80210cac1",
    "tags": []
   },
   "outputs": [
    {
     "data": {
      "text/plain": [
       "{'max_depth': 5, 'min_samples_leaf': 25, 'min_samples_split': 5}"
      ]
     },
     "execution_count": 34,
     "metadata": {},
     "output_type": "execute_result"
    }
   ],
   "source": [
    "best_params"
   ]
  },
  {
   "cell_type": "code",
   "execution_count": null,
   "metadata": {
    "colab": {
     "base_uri": "https://localhost:8080/"
    },
    "id": "fHhar0nRcnq_",
    "outputId": "eb682c9a-551d-4b68-9b49-7b5fc2703f90",
    "tags": []
   },
   "outputs": [
    {
     "data": {
      "text/plain": [
       "0.5853019146668745"
      ]
     },
     "execution_count": 35,
     "metadata": {},
     "output_type": "execute_result"
    }
   ],
   "source": [
    "auc_train"
   ]
  },
  {
   "cell_type": "code",
   "execution_count": null,
   "metadata": {
    "colab": {
     "base_uri": "https://localhost:8080/"
    },
    "id": "3kckh6LYcsqp",
    "outputId": "b3060b30-75ce-4eee-9be3-9cf27309a6a5",
    "tags": []
   },
   "outputs": [
    {
     "data": {
      "text/plain": [
       "0.5651806100400092"
      ]
     },
     "execution_count": 36,
     "metadata": {},
     "output_type": "execute_result"
    }
   ],
   "source": [
    "auc_test"
   ]
  },
  {
   "cell_type": "code",
   "execution_count": null,
   "metadata": {},
   "outputs": [
    {
     "data": {
      "image/png": "[encoded data removed]",
      "text/plain": [
       "<Figure size 640x480 with 2 Axes>"
      ]
     },
     "metadata": {},
     "output_type": "display_data"
    }
   ],
   "source": [
    "cm = confusion_matrix(y_test, y_test_pred)\n",
    "disp = ConfusionMatrixDisplay(confusion_matrix=cm)\n",
    "disp.plot(cmap=plt.cm.Blues, values_format=\"d\")\n",
    "plt.title(\"Confusion Matrix\")\n",
    "plt.show()"
   ]
  },
  {
   "cell_type": "code",
   "execution_count": 31,
   "metadata": {},
   "outputs": [],
   "source": [
    "Results['CART'] = [2121, 1450, 519, 326, 0.615, 0.598, 0.585, 0.565]"
   ]
  },
  {
   "cell_type": "markdown",
   "metadata": {},
   "source": [
    "### Random Forest (CV)"
   ]
  },
  {
   "cell_type": "code",
   "execution_count": null,
   "metadata": {
    "tags": []
   },
   "outputs": [
    {
     "name": "stdout",
     "output_type": "stream",
     "text": [
      "training accuracy:  0.7689258818866429\n",
      "test accuracy:  0.6068840579710145\n",
      "AUC train:  0.7546165715517975\n",
      "AUC test:  0.5852092808370362\n",
      "best params:  {'max_depth': 20, 'min_samples_leaf': 25, 'n_estimators': 200}\n"
     ]
    }
   ],
   "source": [
    "rf = RandomForestClassifier()\n",
    "\n",
    "param_grid = {\n",
    "    'n_estimators': [50, 100, 200],\n",
    "    'max_depth': [10, 20],\n",
    "    'min_samples_leaf': [25, 50]\n",
    "}\n",
    "\n",
    "grid_search = GridSearchCV(estimator=rf, param_grid=param_grid, cv=5, scoring='roc_auc')\n",
    "grid_search.fit(X_train, y_train)\n",
    "\n",
    "best_params = grid_search.best_params_\n",
    "best_model_rf = grid_search.best_estimator_\n",
    "\n",
    "y_test_pred = best_model_rf.predict(X_test)\n",
    "y_train_pred = best_model_rf.predict(X_train)\n",
    "\n",
    "training_accuracy = accuracy_score(y_train, y_train_pred)\n",
    "test_accuracy = accuracy_score(y_test, y_test_pred)\n",
    "\n",
    "auc_train = roc_auc_score(y_train,y_train_pred)\n",
    "auc_test = roc_auc_score(y_test,y_test_pred)\n",
    "\n",
    "print(\"training accuracy: \", training_accuracy)\n",
    "print(\"test accuracy: \", test_accuracy)\n",
    "print(\"AUC train: \", auc_train)\n",
    "print(\"AUC test: \", auc_test)\n",
    "print(\"best params: \", best_params)"
   ]
  },
  {
   "cell_type": "code",
   "execution_count": null,
   "metadata": {
    "tags": []
   },
   "outputs": [
    {
     "data": {
      "image/png": "[encoded data removed]",
      "text/plain": [
       "<Figure size 640x480 with 2 Axes>"
      ]
     },
     "metadata": {},
     "output_type": "display_data"
    }
   ],
   "source": [
    "cm = confusion_matrix(y_test, y_test_pred)\n",
    "disp = ConfusionMatrixDisplay(confusion_matrix=cm)\n",
    "disp.plot(cmap=plt.cm.Blues, values_format=\"d\")\n",
    "plt.title(\"Confusion Matrix\")\n",
    "plt.show()"
   ]
  },
  {
   "cell_type": "code",
   "execution_count": 32,
   "metadata": {},
   "outputs": [],
   "source": [
    "Results['Random Forest'] = [1922, 1211, 758, 525, 0.769, 0.607, 0.755, 0.585]"
   ]
  },
  {
   "cell_type": "code",
   "execution_count": null,
   "metadata": {
    "tags": []
   },
   "outputs": [
    {
     "data": {
      "text/html": [
       "<div>\n",
       "<style scoped>\n",
       "    .dataframe tbody tr th:only-of-type {\n",
       "        vertical-align: middle;\n",
       "    }\n",
       "\n",
       "    .dataframe tbody tr th {\n",
       "        vertical-align: top;\n",
       "    }\n",
       "\n",
       "    .dataframe thead th {\n",
       "        text-align: right;\n",
       "    }\n",
       "</style>\n",
       "<table border=\"1\" class=\"dataframe\">\n",
       "  <thead>\n",
       "    <tr style=\"text-align: right;\">\n",
       "      <th></th>\n",
       "      <th>Feature</th>\n",
       "      <th>Scores</th>\n",
       "    </tr>\n",
       "  </thead>\n",
       "  <tbody>\n",
       "    <tr>\n",
       "      <th>74</th>\n",
       "      <td>Earnings Yield</td>\n",
       "      <td>0.022600</td>\n",
       "    </tr>\n",
       "    <tr>\n",
       "      <th>12</th>\n",
       "      <td>EBITDA Margin</td>\n",
       "      <td>0.019589</td>\n",
       "    </tr>\n",
       "    <tr>\n",
       "      <th>39</th>\n",
       "      <td>priceEarningsRatio</td>\n",
       "      <td>0.018548</td>\n",
       "    </tr>\n",
       "    <tr>\n",
       "      <th>9</th>\n",
       "      <td>Weighted Average Shs Out</td>\n",
       "      <td>0.018156</td>\n",
       "    </tr>\n",
       "    <tr>\n",
       "      <th>27</th>\n",
       "      <td>Operating Cash Flow</td>\n",
       "      <td>0.017272</td>\n",
       "    </tr>\n",
       "    <tr>\n",
       "      <th>...</th>\n",
       "      <td>...</td>\n",
       "      <td>...</td>\n",
       "    </tr>\n",
       "    <tr>\n",
       "      <th>107</th>\n",
       "      <td>Sector_Basic Materials</td>\n",
       "      <td>0.000393</td>\n",
       "    </tr>\n",
       "    <tr>\n",
       "      <th>115</th>\n",
       "      <td>Sector_Real Estate</td>\n",
       "      <td>0.000375</td>\n",
       "    </tr>\n",
       "    <tr>\n",
       "      <th>108</th>\n",
       "      <td>Sector_Communication Services</td>\n",
       "      <td>0.000054</td>\n",
       "    </tr>\n",
       "    <tr>\n",
       "      <th>110</th>\n",
       "      <td>Sector_Consumer Defensive</td>\n",
       "      <td>0.000049</td>\n",
       "    </tr>\n",
       "    <tr>\n",
       "      <th>48</th>\n",
       "      <td>operatingProfitMargin</td>\n",
       "      <td>0.000000</td>\n",
       "    </tr>\n",
       "  </tbody>\n",
       "</table>\n",
       "<p>118 rows × 2 columns</p>\n",
       "</div>"
      ],
      "text/plain": [
       "                           Feature    Scores\n",
       "74                  Earnings Yield  0.022600\n",
       "12                   EBITDA Margin  0.019589\n",
       "39              priceEarningsRatio  0.018548\n",
       "9         Weighted Average Shs Out  0.018156\n",
       "27             Operating Cash Flow  0.017272\n",
       "..                             ...       ...\n",
       "107         Sector_Basic Materials  0.000393\n",
       "115             Sector_Real Estate  0.000375\n",
       "108  Sector_Communication Services  0.000054\n",
       "110      Sector_Consumer Defensive  0.000049\n",
       "48           operatingProfitMargin  0.000000\n",
       "\n",
       "[118 rows x 2 columns]"
      ]
     },
     "execution_count": 41,
     "metadata": {},
     "output_type": "execute_result"
    }
   ],
   "source": [
    "feature_scores_rf = best_model_rf.feature_importances_\n",
    "rf_features_df = pd.DataFrame({'Feature': X_train.columns, 'Scores': feature_scores_rf}).sort_values(by='Scores', ascending=False)\n",
    "rf_features_df"
   ]
  },
  {
   "cell_type": "markdown",
   "metadata": {},
   "source": [
    "### XGBoost (CV)"
   ]
  },
  {
   "cell_type": "code",
   "execution_count": null,
   "metadata": {
    "tags": []
   },
   "outputs": [
    {
     "name": "stdout",
     "output_type": "stream",
     "text": [
      "training accuracy:  0.8002944340637563\n",
      "test accuracy:  0.6129981884057971\n",
      "AUC train:  0.7880706905099084\n",
      "AUC test:  0.5937520949461235\n",
      "best params:  {'learning_rate': 0.01, 'max_depth': 10, 'min_child_weight': 15, 'n_estimators': 200}\n"
     ]
    }
   ],
   "source": [
    "xgb = XGBClassifier()\n",
    "\n",
    "param_grid = {\n",
    "    'n_estimators': [100, 150, 200],\n",
    "    'max_depth': [5, 8, 10, 12],\n",
    "    'learning_rate': [0.005, 0.01, 0.1],\n",
    "    'min_child_weight': [1, 5, 15]\n",
    "}\n",
    "    \n",
    "grid_search = GridSearchCV(estimator=xgb, param_grid=param_grid, cv=5, scoring='roc_auc')\n",
    "grid_search.fit(X_train, y_train)\n",
    "\n",
    "best_params = grid_search.best_params_\n",
    "best_model_xgb = grid_search.best_estimator_\n",
    "\n",
    "y_test_pred = best_model_xgb.predict(X_test)\n",
    "y_train_pred = best_model_xgb.predict(X_train)\n",
    "\n",
    "training_accuracy = accuracy_score(y_train, y_train_pred)\n",
    "test_accuracy = accuracy_score(y_test, y_test_pred)\n",
    "\n",
    "auc_train = roc_auc_score(y_train,y_train_pred)\n",
    "auc_test = roc_auc_score(y_test,y_test_pred)\n",
    "\n",
    "print(\"training accuracy: \", training_accuracy)\n",
    "print(\"test accuracy: \", test_accuracy)\n",
    "print(\"AUC train: \", auc_train)\n",
    "print(\"AUC test: \", auc_test)\n",
    "print(\"best params: \", best_params)"
   ]
  },
  {
   "cell_type": "code",
   "execution_count": null,
   "metadata": {},
   "outputs": [
    {
     "data": {
      "image/png": "[encoded data removed]",
      "text/plain": [
       "<Figure size 640x480 with 2 Axes>"
      ]
     },
     "metadata": {},
     "output_type": "display_data"
    }
   ],
   "source": [
    "cm = confusion_matrix(y_test, y_test_pred)\n",
    "disp = ConfusionMatrixDisplay(confusion_matrix=cm)\n",
    "disp.plot(cmap=plt.cm.Blues, values_format=\"d\")\n",
    "plt.title(\"Confusion Matrix\")\n",
    "plt.show()"
   ]
  },
  {
   "cell_type": "code",
   "execution_count": 33,
   "metadata": {},
   "outputs": [],
   "source": [
    "Results['XGBoost'] = [1888, 1150, 819, 559, 0.800, 0.613, 0.788, 0.594]"
   ]
  },
  {
   "cell_type": "code",
   "execution_count": null,
   "metadata": {
    "tags": []
   },
   "outputs": [
    {
     "data": {
      "text/html": [
       "<div>\n",
       "<style scoped>\n",
       "    .dataframe tbody tr th:only-of-type {\n",
       "        vertical-align: middle;\n",
       "    }\n",
       "\n",
       "    .dataframe tbody tr th {\n",
       "        vertical-align: top;\n",
       "    }\n",
       "\n",
       "    .dataframe thead th {\n",
       "        text-align: right;\n",
       "    }\n",
       "</style>\n",
       "<table border=\"1\" class=\"dataframe\">\n",
       "  <thead>\n",
       "    <tr style=\"text-align: right;\">\n",
       "      <th></th>\n",
       "      <th>Feature</th>\n",
       "      <th>Scores</th>\n",
       "    </tr>\n",
       "  </thead>\n",
       "  <tbody>\n",
       "    <tr>\n",
       "      <th>37</th>\n",
       "      <td>priceBookValueRatio</td>\n",
       "      <td>539.0</td>\n",
       "    </tr>\n",
       "    <tr>\n",
       "      <th>32</th>\n",
       "      <td>Issuance (buybacks) of shares</td>\n",
       "      <td>524.0</td>\n",
       "    </tr>\n",
       "    <tr>\n",
       "      <th>46</th>\n",
       "      <td>niperEBT</td>\n",
       "      <td>523.0</td>\n",
       "    </tr>\n",
       "    <tr>\n",
       "      <th>1</th>\n",
       "      <td>Revenue Growth</td>\n",
       "      <td>518.0</td>\n",
       "    </tr>\n",
       "    <tr>\n",
       "      <th>103</th>\n",
       "      <td>Book Value per Share Growth</td>\n",
       "      <td>492.0</td>\n",
       "    </tr>\n",
       "    <tr>\n",
       "      <th>...</th>\n",
       "      <td>...</td>\n",
       "      <td>...</td>\n",
       "    </tr>\n",
       "    <tr>\n",
       "      <th>111</th>\n",
       "      <td>Sector_Industrials</td>\n",
       "      <td>17.0</td>\n",
       "    </tr>\n",
       "    <tr>\n",
       "      <th>6</th>\n",
       "      <td>Net Income - Discontinued ops</td>\n",
       "      <td>11.0</td>\n",
       "    </tr>\n",
       "    <tr>\n",
       "      <th>112</th>\n",
       "      <td>Sector_Real Estate</td>\n",
       "      <td>7.0</td>\n",
       "    </tr>\n",
       "    <tr>\n",
       "      <th>109</th>\n",
       "      <td>Sector_Financial Services</td>\n",
       "      <td>5.0</td>\n",
       "    </tr>\n",
       "    <tr>\n",
       "      <th>110</th>\n",
       "      <td>Sector_Healthcare</td>\n",
       "      <td>5.0</td>\n",
       "    </tr>\n",
       "  </tbody>\n",
       "</table>\n",
       "<p>115 rows × 2 columns</p>\n",
       "</div>"
      ],
      "text/plain": [
       "                           Feature  Scores\n",
       "37             priceBookValueRatio   539.0\n",
       "32   Issuance (buybacks) of shares   524.0\n",
       "46                        niperEBT   523.0\n",
       "1                   Revenue Growth   518.0\n",
       "103    Book Value per Share Growth   492.0\n",
       "..                             ...     ...\n",
       "111             Sector_Industrials    17.0\n",
       "6    Net Income - Discontinued ops    11.0\n",
       "112             Sector_Real Estate     7.0\n",
       "109      Sector_Financial Services     5.0\n",
       "110              Sector_Healthcare     5.0\n",
       "\n",
       "[115 rows x 2 columns]"
      ]
     },
     "execution_count": 21,
     "metadata": {},
     "output_type": "execute_result"
    }
   ],
   "source": [
    "feature_scores_xgb = best_model_xgb.get_booster().get_score(importance_type='weight')\n",
    "xgb_features_df = pd.DataFrame(list(feature_scores_xgb.items()), columns=['Feature', 'Scores']).sort_values(by='Scores', ascending=False)\n",
    "xgb_features_df"
   ]
  },
  {
   "cell_type": "markdown",
   "metadata": {},
   "source": [
    "### Ensemble (RF + XGB)"
   ]
  },
  {
   "cell_type": "code",
   "execution_count": null,
   "metadata": {
    "tags": []
   },
   "outputs": [
    {
     "name": "stdout",
     "output_type": "stream",
     "text": [
      "best accuracy weight:  [0.25, 0.75]\n",
      "best accuracy:  0.6157155797101449\n",
      "best auc weight:  [0.25, 0.75]\n",
      "best auc:  0.5961544727916959\n"
     ]
    }
   ],
   "source": [
    "weights = [[1/4, 3/4], [1/3, 2/3], [1/2, 1/2], [2/3, 1/3], [3/4, 1/4]]\n",
    "\n",
    "rf_pred = best_model_rf.predict(X_test)\n",
    "xgb_pred = best_model_xgb.predict(X_test)\n",
    "\n",
    "results = {'accuracy': [], 'auc': []}\n",
    "\n",
    "for pair in weights:\n",
    "    pred = pair[0] * rf_pred + pair[1] * xgb_pred\n",
    "    pred = [1 if p >= 0.5 else 0 for p in pred]\n",
    "    accuracy = accuracy_score(y_test, y_test_pred)\n",
    "    auc = roc_auc_score(y_test,y_test_pred)\n",
    "    results['accuracy'].append(accuracy)\n",
    "    results['auc'].append(auc)\n",
    "\n",
    "ind = np.argmax(results['accuracy'])\n",
    "print(\"best accuracy weight: \", weights[ind])\n",
    "print(\"best accuracy: \", max(results['accuracy']))\n",
    "\n",
    "ind = np.argmax(results['auc'])\n",
    "print(\"best auc weight: \",weights[ind])\n",
    "print(\"best auc: \", max(results['auc']))"
   ]
  },
  {
   "cell_type": "code",
   "execution_count": null,
   "metadata": {},
   "outputs": [],
   "source": [
    "pred = 0.25 * rf_pred + 0.75 * xgb_pred\n",
    "pred = [1 if p >= 0.5 else 0 for p in pred]\n",
    "\n",
    "cm = confusion_matrix(y_test, pred)\n",
    "disp = ConfusionMatrixDisplay(confusion_matrix=cm)\n",
    "disp.plot(cmap=plt.cm.Blues, values_format=\"d\")\n",
    "plt.title(\"Confusion Matrix\")\n",
    "plt.show()"
   ]
  },
  {
   "cell_type": "code",
   "execution_count": 34,
   "metadata": {},
   "outputs": [],
   "source": [
    "Results['Ensemble'] = [None, None, None, None, None, 0.616, None, 0.596]"
   ]
  },
  {
   "cell_type": "code",
   "execution_count": 35,
   "metadata": {},
   "outputs": [
    {
     "data": {
      "text/html": [
       "<div>\n",
       "<style scoped>\n",
       "    .dataframe tbody tr th:only-of-type {\n",
       "        vertical-align: middle;\n",
       "    }\n",
       "\n",
       "    .dataframe tbody tr th {\n",
       "        vertical-align: top;\n",
       "    }\n",
       "\n",
       "    .dataframe thead th {\n",
       "        text-align: right;\n",
       "    }\n",
       "</style>\n",
       "<table border=\"1\" class=\"dataframe\">\n",
       "  <thead>\n",
       "    <tr style=\"text-align: right;\">\n",
       "      <th></th>\n",
       "      <th>Metric</th>\n",
       "      <th>Baseline</th>\n",
       "      <th>Logistic Regression</th>\n",
       "      <th>CART</th>\n",
       "      <th>Random Forest</th>\n",
       "      <th>XGBoost</th>\n",
       "      <th>Ensemble</th>\n",
       "    </tr>\n",
       "  </thead>\n",
       "  <tbody>\n",
       "    <tr>\n",
       "      <th>0</th>\n",
       "      <td>True Positives</td>\n",
       "      <td>2447.000</td>\n",
       "      <td>1897.000</td>\n",
       "      <td>2121.000</td>\n",
       "      <td>1922.000</td>\n",
       "      <td>1888.000</td>\n",
       "      <td>NaN</td>\n",
       "    </tr>\n",
       "    <tr>\n",
       "      <th>1</th>\n",
       "      <td>False Positives</td>\n",
       "      <td>1969.000</td>\n",
       "      <td>1291.000</td>\n",
       "      <td>1450.000</td>\n",
       "      <td>1211.000</td>\n",
       "      <td>1150.000</td>\n",
       "      <td>NaN</td>\n",
       "    </tr>\n",
       "    <tr>\n",
       "      <th>2</th>\n",
       "      <td>True Negatives</td>\n",
       "      <td>0.000</td>\n",
       "      <td>678.000</td>\n",
       "      <td>519.000</td>\n",
       "      <td>758.000</td>\n",
       "      <td>819.000</td>\n",
       "      <td>NaN</td>\n",
       "    </tr>\n",
       "    <tr>\n",
       "      <th>3</th>\n",
       "      <td>False Negatives</td>\n",
       "      <td>0.000</td>\n",
       "      <td>550.000</td>\n",
       "      <td>326.000</td>\n",
       "      <td>525.000</td>\n",
       "      <td>559.000</td>\n",
       "      <td>NaN</td>\n",
       "    </tr>\n",
       "    <tr>\n",
       "      <th>4</th>\n",
       "      <td>Train_Accuracy</td>\n",
       "      <td>NaN</td>\n",
       "      <td>0.597</td>\n",
       "      <td>0.615</td>\n",
       "      <td>0.769</td>\n",
       "      <td>0.800</td>\n",
       "      <td>NaN</td>\n",
       "    </tr>\n",
       "    <tr>\n",
       "      <th>5</th>\n",
       "      <td>Test_Accuracy</td>\n",
       "      <td>0.554</td>\n",
       "      <td>0.583</td>\n",
       "      <td>0.598</td>\n",
       "      <td>0.607</td>\n",
       "      <td>0.613</td>\n",
       "      <td>0.616</td>\n",
       "    </tr>\n",
       "    <tr>\n",
       "      <th>6</th>\n",
       "      <td>Train_AUC</td>\n",
       "      <td>NaN</td>\n",
       "      <td>0.575</td>\n",
       "      <td>0.585</td>\n",
       "      <td>0.755</td>\n",
       "      <td>0.788</td>\n",
       "      <td>NaN</td>\n",
       "    </tr>\n",
       "    <tr>\n",
       "      <th>7</th>\n",
       "      <td>Test_AUC</td>\n",
       "      <td>0.500</td>\n",
       "      <td>0.560</td>\n",
       "      <td>0.565</td>\n",
       "      <td>0.585</td>\n",
       "      <td>0.594</td>\n",
       "      <td>0.596</td>\n",
       "    </tr>\n",
       "  </tbody>\n",
       "</table>\n",
       "</div>"
      ],
      "text/plain": [
       "            Metric  Baseline  Logistic Regression      CART  Random Forest  \\\n",
       "0   True Positives  2447.000             1897.000  2121.000       1922.000   \n",
       "1  False Positives  1969.000             1291.000  1450.000       1211.000   \n",
       "2   True Negatives     0.000              678.000   519.000        758.000   \n",
       "3  False Negatives     0.000              550.000   326.000        525.000   \n",
       "4   Train_Accuracy       NaN                0.597     0.615          0.769   \n",
       "5    Test_Accuracy     0.554                0.583     0.598          0.607   \n",
       "6        Train_AUC       NaN                0.575     0.585          0.755   \n",
       "7         Test_AUC     0.500                0.560     0.565          0.585   \n",
       "\n",
       "    XGBoost  Ensemble  \n",
       "0  1888.000       NaN  \n",
       "1  1150.000       NaN  \n",
       "2   819.000       NaN  \n",
       "3   559.000       NaN  \n",
       "4     0.800       NaN  \n",
       "5     0.613     0.616  \n",
       "6     0.788       NaN  \n",
       "7     0.594     0.596  "
      ]
     },
     "execution_count": 35,
     "metadata": {},
     "output_type": "execute_result"
    }
   ],
   "source": [
    "Results"
   ]
  },
  {
   "cell_type": "code",
   "execution_count": null,
   "metadata": {},
   "outputs": [],
   "source": []
  }
 ],
 "metadata": {
  "colab": {
   "provenance": []
  },
  "kernelspec": {
   "display_name": "Python 3 (ipykernel)",
   "language": "python",
   "name": "python3"
  },
  "language_info": {
   "codemirror_mode": {
    "name": "ipython",
    "version": 3
   },
   "file_extension": ".py",
   "mimetype": "text/x-python",
   "name": "python",
   "nbconvert_exporter": "python",
   "pygments_lexer": "ipython3",
   "version": "3.9.6"
  }
 },
 "nbformat": 4,
 "nbformat_minor": 4
}
